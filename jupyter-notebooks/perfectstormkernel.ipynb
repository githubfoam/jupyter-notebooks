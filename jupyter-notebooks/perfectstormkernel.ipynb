{
  "cells": [
    {
      "metadata": {
        "_uuid": "442d747596af78cf59933a51d26b50bbc7b3c0c9"
      },
      "cell_type": "markdown",
      "source": "## Introduction\nGreetings from the Kaggle bot! This is an automatically-generated kernel with starter code demonstrating how to read in the data and begin exploring. If you're inspired to dig deeper, click the blue \"Fork Notebook\" button at the top of this kernel to begin editing."
    },
    {
      "metadata": {
        "_uuid": "096cf3a641727825b968a26481caafbbcb1e450d"
      },
      "cell_type": "markdown",
      "source": "## Exploratory Analysis\nTo begin this exploratory analysis, first import libraries and define functions for plotting the data using `matplotlib`. Depending on the data, not all plots will be made. (Hey, I'm just a simple kerneling bot, not a Kaggle Competitions Grandmaster!)"
    },
    {
      "metadata": {
        "_kg_hide-input": false,
        "_uuid": "d677f761ae3e0217fdeba1fb280c933dc5c5de3e",
        "trusted": true
      },
      "cell_type": "code",
      "source": "from mpl_toolkits.mplot3d import Axes3D\nfrom sklearn.preprocessing import StandardScaler\nfrom sklearn import model_selection\nfrom sklearn.metrics import classification_report\nfrom sklearn.metrics import confusion_matrix\nfrom sklearn.metrics import accuracy_score\nfrom sklearn.linear_model import LogisticRegression\nfrom sklearn.tree import DecisionTreeClassifier\nfrom sklearn.neighbors import KNeighborsClassifier\nfrom sklearn.discriminant_analysis import LinearDiscriminantAnalysis\nfrom sklearn.naive_bayes import GaussianNB\nfrom sklearn.svm import SVC\nimport matplotlib.pyplot as plt # plotting\nimport numpy as np # linear algebra\nimport os # accessing directory structure\nimport pandas as pd # data processing, CSV file I/O (e.g. pd.read_csv)\n",
      "execution_count": null,
      "outputs": []
    },
    {
      "metadata": {
        "_uuid": "f6535216f55c7cfdeb555db27997d46f3efaab36"
      },
      "cell_type": "markdown",
      "source": "There are 8 csv files in the current version of the dataset:\n"
    },
    {
      "metadata": {
        "_kg_hide-input": false,
        "_uuid": "2a74997daf5dc21badecdcd2e540d5910cd0b8b2",
        "trusted": true
      },
      "cell_type": "code",
      "source": "print(os.listdir('../input'))",
      "execution_count": null,
      "outputs": []
    },
    {
      "metadata": {
        "_uuid": "d397c8d3fe52f3edd1582cb2e015c21d698efcfc"
      },
      "cell_type": "markdown",
      "source": "The next hidden code cells define functions for plotting data. Click on the \"Code\" button in the published kernel to reveal the hidden code."
    },
    {
      "metadata": {
        "_kg_hide-input": true,
        "_uuid": "95dafa45497dc1aaf5db03ffa9ecb9e130c3cdf1",
        "trusted": true
      },
      "cell_type": "code",
      "source": "# Distribution graphs (histogram/bar graph) of column data\ndef plotPerColumnDistribution(df, nGraphShown, nGraphPerRow):\n    nunique = df.nunique()\n    df = df[[col for col in df if nunique[col] > 1 and nunique[col] < 50]] # For displaying purposes, pick columns that have between 1 and 50 unique values\n    nRow, nCol = df.shape\n    columnNames = list(df)\n    nGraphRow = (nCol + nGraphPerRow - 1) / nGraphPerRow\n    plt.figure(num = None, figsize = (6 * nGraphPerRow, 8 * nGraphRow), dpi = 80, facecolor = 'w', edgecolor = 'k')\n    for i in range(min(nCol, nGraphShown)):\n        plt.subplot(nGraphRow, nGraphPerRow, i + 1)\n        columnDf = df.iloc[:, i]\n        if (not np.issubdtype(type(columnDf.iloc[0]), np.number)):\n            valueCounts = columnDf.value_counts()\n            valueCounts.plot.bar()\n        else:\n            columnDf.hist()\n        plt.ylabel('counts')\n        plt.xticks(rotation = 90)\n        plt.title(f'{columnNames[i]} (column {i})')\n    plt.tight_layout(pad = 1.0, w_pad = 1.0, h_pad = 1.0)\n    plt.show()\n",
      "execution_count": null,
      "outputs": []
    },
    {
      "metadata": {
        "_kg_hide-input": true,
        "_uuid": "4c73679de6f1e1ef50fe58efbac9b285b51f1709",
        "trusted": true
      },
      "cell_type": "code",
      "source": "# Correlation matrix\ndef plotCorrelationMatrix(df, graphWidth):\n    filename = df.dataframeName\n    df = df.dropna('columns') # drop columns with NaN\n    df = df[[col for col in df if df[col].nunique() > 1]] # keep columns where there are more than 1 unique values\n    if df.shape[1] < 2:\n        print(f'No correlation plots shown: The number of non-NaN or constant columns ({df.shape[1]}) is less than 2')\n        return\n    corr = df.corr()\n    plt.figure(num=None, figsize=(graphWidth, graphWidth), dpi=80, facecolor='w', edgecolor='k')\n    corrMat = plt.matshow(corr, fignum = 1)\n    plt.xticks(range(len(corr.columns)), corr.columns, rotation=90)\n    plt.yticks(range(len(corr.columns)), corr.columns)\n    plt.gca().xaxis.tick_bottom()\n    plt.colorbar(corrMat)\n    plt.title(f'Correlation Matrix for {filename}', fontsize=15)\n    plt.show()\n",
      "execution_count": null,
      "outputs": []
    },
    {
      "metadata": {
        "_kg_hide-input": true,
        "_uuid": "44aee7b52ee9bdf9d84a067ffcdb7ae6d1503337",
        "trusted": true
      },
      "cell_type": "code",
      "source": "# Scatter and density plots\ndef plotScatterMatrix(df, plotSize, textSize):\n    df = df.select_dtypes(include =[np.number]) # keep only numerical columns\n    # Remove rows and columns that would lead to df being singular\n    df = df.dropna('columns')\n    df = df[[col for col in df if df[col].nunique() > 1]] # keep columns where there are more than 1 unique values\n    columnNames = list(df)\n    if len(columnNames) > 10: # reduce the number of columns for matrix inversion of kernel density plots\n        columnNames = columnNames[:10]\n    df = df[columnNames]\n    ax = pd.plotting.scatter_matrix(df, alpha=0.75, figsize=[plotSize, plotSize], diagonal='kde')\n    corrs = df.corr().values\n    for i, j in zip(*plt.np.triu_indices_from(ax, k = 1)):\n        ax[i, j].annotate('Corr. coef = %.3f' % corrs[i, j], (0.8, 0.2), xycoords='axes fraction', ha='center', va='center', size=textSize)\n    plt.suptitle('Scatter and Density Plot')\n    plt.show()\n",
      "execution_count": null,
      "outputs": []
    },
    {
      "metadata": {
        "_uuid": "492cf5d2e54fe09c9d5a0790ac6153e8d9ae3bd5"
      },
      "cell_type": "markdown",
      "source": "Now you're ready to read in the data and use the plotting functions to visualize the data."
    },
    {
      "metadata": {
        "_uuid": "82e933c2e25a33d316e8dbb82679d6c8773031e9"
      },
      "cell_type": "markdown",
      "source": "### Let's check 1st file: ../input/NUSW-NB15_features.csv"
    },
    {
      "metadata": {
        "_kg_hide-input": false,
        "_uuid": "80924e2e1fdd4988fa00abe70c6736adbc99052b",
        "trusted": true
      },
      "cell_type": "code",
      "source": "nRowsRead = 10 # specify 'None' if want to read whole file\ndf1 = pd.read_csv('../input/NUSW-NB15_features.csv', delimiter=',', nrows = nRowsRead)\n# df1 = pd.read_csv('../input/NUSW-NB15_features.csv')\ndf1.dataframeName = 'NUSW-NB15_features.csv'\nnRow, nCol = df1.shape\nprint(f'There are {nRow} rows and {nCol} columns')",
      "execution_count": null,
      "outputs": []
    },
    {
      "metadata": {
        "_uuid": "a60e46ae670961bdf8821dce3733cb536075da74"
      },
      "cell_type": "markdown",
      "source": "Let's take a quick look at what the data looks like:"
    },
    {
      "metadata": {
        "_kg_hide-input": false,
        "_uuid": "770615d6e74adb2e8b0259c92704605143a1d114",
        "trusted": true
      },
      "cell_type": "code",
      "source": "df1.head(5)",
      "execution_count": null,
      "outputs": []
    },
    {
      "metadata": {
        "_uuid": "c6f559411ccd4ccb5188ec8b11a1d5c455e09874"
      },
      "cell_type": "markdown",
      "source": "Distribution graphs (histogram/bar graph) of sampled columns:"
    },
    {
      "metadata": {
        "_kg_hide-input": false,
        "_uuid": "a5934a52b45535eee723ac105530010f2852e902",
        "trusted": true
      },
      "cell_type": "code",
      "source": "plotPerColumnDistribution(df1, 10, 5)",
      "execution_count": null,
      "outputs": []
    },
    {
      "metadata": {
        "_uuid": "35006c81369749631e0f810ca4047c9c4d2d0a1a"
      },
      "cell_type": "markdown",
      "source": "### Let's check 2nd file: ../input/UNSW_NB15_testing-set.csv"
    },
    {
      "metadata": {
        "_kg_hide-input": false,
        "_uuid": "b00b6f0215f9fd7d15321fa30a410ec3d2acff80",
        "trusted": true
      },
      "cell_type": "code",
      "source": "nRowsRead = None # specify 'None' if want to read whole file\n# UNSW_NB15_testing-set.csv has 175341 rows in reality, but we are only loading/previewing the first 1000 rows\ndf2 = pd.read_csv('../input/UNSW_NB15_testing-set.csv', delimiter=',', nrows = nRowsRead)\ndf2.dataframeName = 'UNSW_NB15_testing-set.csv'\nnRow, nCol = df2.shape\nprint(f'There are {nRow} rows and {nCol} columns')",
      "execution_count": null,
      "outputs": []
    },
    {
      "metadata": {
        "_uuid": "569b4cc20da9f3bab206b943c11df0a543e6d368"
      },
      "cell_type": "markdown",
      "source": "Let's take a quick look at what the data looks like:"
    },
    {
      "metadata": {
        "_kg_hide-input": false,
        "_uuid": "d3b4202a122659056ef4df2b645365e5ba72f35a",
        "trusted": true
      },
      "cell_type": "code",
      "source": "df2.head(5)",
      "execution_count": null,
      "outputs": []
    },
    {
      "metadata": {
        "trusted": true,
        "_uuid": "4d9cc38ca9e8edeb570fe3900f3d716700fdacae"
      },
      "cell_type": "code",
      "source": "df2.shape",
      "execution_count": null,
      "outputs": []
    },
    {
      "metadata": {
        "trusted": true,
        "_uuid": "47c9753fc72db0a50f9e11c4cb187648445ed730"
      },
      "cell_type": "code",
      "source": "df2.describe()",
      "execution_count": null,
      "outputs": []
    },
    {
      "metadata": {
        "trusted": true,
        "_uuid": "39947db8a963257e31967176b14ab1689a8382f5"
      },
      "cell_type": "code",
      "source": "df2['service'].value_counts().sort_index().plot.line()",
      "execution_count": null,
      "outputs": []
    },
    {
      "metadata": {
        "_kg_hide-input": true,
        "_kg_hide-output": true,
        "trusted": true,
        "_uuid": "0b78986ec82f248ce9771b40f6467c4982fab89b"
      },
      "cell_type": "code",
      "source": "df2['service'].value_counts().head(10).plot.bar()",
      "execution_count": null,
      "outputs": []
    },
    {
      "metadata": {
        "trusted": true,
        "_uuid": "28829a97459987c0a38be2bf77f73c058596557b"
      },
      "cell_type": "code",
      "source": "df2['proto'].value_counts().head(10).plot.bar()",
      "execution_count": null,
      "outputs": []
    },
    {
      "metadata": {
        "trusted": true,
        "_uuid": "9ebf9c674f174bbc1fe23ed58548b2eade1c1fe3"
      },
      "cell_type": "code",
      "source": "df2['state'].value_counts().head(10).plot.bar()",
      "execution_count": null,
      "outputs": []
    },
    {
      "metadata": {
        "_uuid": "7f41a7f19cfa9190d3bb92992a57f5b2bb33b285"
      },
      "cell_type": "markdown",
      "source": "Distribution graphs (histogram/bar graph) of sampled columns:"
    },
    {
      "metadata": {
        "_kg_hide-input": false,
        "_uuid": "41c35b5ea61451876337baf8748bc2bb941b2960",
        "trusted": true
      },
      "cell_type": "code",
      "source": "plotPerColumnDistribution(df2, 10, 5)",
      "execution_count": null,
      "outputs": []
    },
    {
      "metadata": {
        "_uuid": "9cf464ee4db6403a7779bc4e8ef9adc2ca74f40e"
      },
      "cell_type": "markdown",
      "source": "Correlation matrix:"
    },
    {
      "metadata": {
        "_kg_hide-input": false,
        "_uuid": "bd075ee64273443ba890120d8d16c6199e4d7813",
        "trusted": true
      },
      "cell_type": "code",
      "source": "plotCorrelationMatrix(df2, 10)",
      "execution_count": null,
      "outputs": []
    },
    {
      "metadata": {
        "_uuid": "883d998b0c3909eb961450438bf6496680174faa"
      },
      "cell_type": "markdown",
      "source": "Scatter and density plots:"
    },
    {
      "metadata": {
        "_kg_hide-input": false,
        "_uuid": "f758ccf16a90257021ca3a43fb840934548c6ceb",
        "trusted": true
      },
      "cell_type": "code",
      "source": "plotScatterMatrix(df2, 20, 10)",
      "execution_count": null,
      "outputs": []
    },
    {
      "metadata": {
        "_uuid": "cfe081db63984062acc607dadfd6ce6b09e73bd8"
      },
      "cell_type": "markdown",
      "source": "### Let's check 3rd file: ../input/UNSW_NB15_training-set.csv"
    },
    {
      "metadata": {
        "_kg_hide-input": false,
        "_uuid": "6ac47055f8bee9a0dc1e7eda852fe069fc8394f8",
        "trusted": true
      },
      "cell_type": "code",
      "source": "nRowsRead = None # specify 'None' if want to read whole file\n# UNSW_NB15_training-set.csv has 82332 rows in reality, but we are only loading/previewing the first 1000 rows\ndf3 = pd.read_csv('../input/UNSW_NB15_training-set.csv', delimiter=',', nrows = nRowsRead)\ndf3.dataframeName = 'UNSW_NB15_training-set.csv'\nnRow, nCol = df3.shape\nprint(f'There are {nRow} rows and {nCol} columns')",
      "execution_count": null,
      "outputs": []
    },
    {
      "metadata": {
        "_uuid": "8d4504e3780760e725dc70fd441138818b4646be"
      },
      "cell_type": "markdown",
      "source": "Let's take a quick look at what the data looks like:"
    },
    {
      "metadata": {
        "_kg_hide-input": false,
        "_uuid": "a04657021cf8ad7a2411ef7a1916398e3ef8128f",
        "trusted": true
      },
      "cell_type": "code",
      "source": "df3.head(5)",
      "execution_count": null,
      "outputs": []
    },
    {
      "metadata": {
        "_uuid": "bfc4a207f9b2b494f30276417062bb9f808af3cb"
      },
      "cell_type": "markdown",
      "source": "Distribution graphs (histogram/bar graph) of sampled columns:"
    },
    {
      "metadata": {
        "_kg_hide-input": false,
        "_uuid": "f853ad3b6ac75c4f695ee0d9b77b1858756e5c7a",
        "trusted": true
      },
      "cell_type": "code",
      "source": "plotPerColumnDistribution(df3, 10, 5)",
      "execution_count": null,
      "outputs": []
    },
    {
      "metadata": {
        "_uuid": "fe4e12303cb59a4640a9d4e473f10c493ddb1bf3"
      },
      "cell_type": "markdown",
      "source": "Correlation matrix:"
    },
    {
      "metadata": {
        "_kg_hide-input": false,
        "_uuid": "92432c94b8b2276cf40babf8b968fc4e8352d406",
        "trusted": true
      },
      "cell_type": "code",
      "source": "plotCorrelationMatrix(df3, 10)",
      "execution_count": null,
      "outputs": []
    },
    {
      "metadata": {
        "_uuid": "cd4e97bdf73a3c5e071e03790008a013964f9775"
      },
      "cell_type": "markdown",
      "source": "Scatter and density plots:"
    },
    {
      "metadata": {
        "_kg_hide-input": false,
        "_uuid": "fa2908bfb05e164c99f41e1399b15333fa87a6ec",
        "trusted": true
      },
      "cell_type": "code",
      "source": "plotScatterMatrix(df3, 20, 10)",
      "execution_count": null,
      "outputs": []
    },
    {
      "metadata": {
        "_uuid": "d2011be485388283e1ccd1df859f9b78e8a10b19"
      },
      "cell_type": "markdown",
      "source": "## Conclusion\nThis concludes your starter analysis! To go forward from here, click the blue \"Fork Notebook\" button at the top of this kernel. This will create a copy of the code and environment for you to edit. Delete, modify, and add code as you please. Happy Kaggling!"
    }
  ],
  "metadata": {
    "language_info": {
      "name": "python",
      "version": "3.6.6",
      "mimetype": "text/x-python",
      "codemirror_mode": {
        "name": "ipython",
        "version": 3
      },
      "pygments_lexer": "ipython3",
      "nbconvert_exporter": "python",
      "file_extension": ".py"
    },
    "kernelspec": {
      "display_name": "Python 3",
      "language": "python",
      "name": "python3"
    }
  },
  "nbformat": 4,
  "nbformat_minor": 1
}
