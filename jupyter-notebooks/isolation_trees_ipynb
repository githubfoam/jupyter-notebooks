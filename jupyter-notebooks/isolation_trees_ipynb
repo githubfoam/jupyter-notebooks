# Isolation Forest isolates anomalies

*   Isolation forest is a machine learning algorithm for anomaly detection.

import numpy as np
import pandas as pd
import seaborn as sns
import matplotlib.pyplot as plt
from sklearn.ensemble import IsolationForest #import IsolationForest from sklearn.ensemble