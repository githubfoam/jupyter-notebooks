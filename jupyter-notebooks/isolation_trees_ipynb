import numpy as np
import pandas as pd
import seaborn as sns
import matplotlib.pyplot as plt
from sklearn.ensemble import IsolationForest #import IsolationForest from sklearn.ensemble