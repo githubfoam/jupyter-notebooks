{
  "nbformat": 4,
  "nbformat_minor": 0,
  "metadata": {
    "colab": {
      "name": "LSTMv1.ipynb",
      "version": "0.3.2",
      "provenance": [],
      "include_colab_link": true
    },
    "kernelspec": {
      "name": "python3",
      "display_name": "Python 3"
    }
  },
  "cells": [
    {
      "cell_type": "markdown",
      "metadata": {
        "id": "view-in-github",
        "colab_type": "text"
      },
      "source": [
        "<a href=\"https://colab.research.google.com/github/githubfoam/jupyter-notebooks/blob/master/LSTMv1.ipynb\" target=\"_parent\"><img src=\"https://colab.research.google.com/assets/colab-badge.svg\" alt=\"Open In Colab\"/></a>"
      ]
    },
    {
      "metadata": {
        "id": "QCy1B6o2gbOB",
        "colab_type": "text"
      },
      "cell_type": "markdown",
      "source": [
        ""
      ]
    },
    {
      "metadata": {
        "id": "1xrw1aLMgdgD",
        "colab_type": "text"
      },
      "cell_type": "markdown",
      "source": [
        "example code for Keras LSTM  \n",
        "example of IMDB dataset that has a labeled sentiment (positive/negative) for movie reviews   \n",
        "the reviews have been preprocessed, and encoded as sequence of word indexes"
      ]
    },
    {
      "metadata": {
        "id": "tVLp91i3c_MN",
        "colab_type": "code",
        "colab": {
          "base_uri": "https://localhost:8080/",
          "height": 35
        },
        "outputId": "8251c117-52da-4384-c54b-a5d920e9f318"
      },
      "cell_type": "code",
      "source": [
        "import numpy as np\n",
        "# for reproducibility\n",
        "np.random.seed(2017)\n",
        "from keras.preprocessing import sequence\n",
        "from keras.models import Sequential\n",
        "from keras.layers import Dense, Activation, Embedding\n",
        "from keras.layers import LSTM\n",
        "from keras.datasets import imdb"
      ],
      "execution_count": 5,
      "outputs": [
        {
          "output_type": "stream",
          "text": [
            "Using TensorFlow backend.\n"
          ],
          "name": "stderr"
        }
      ]
    },
    {
      "metadata": {
        "id": "7CL5n8LhdxGB",
        "colab_type": "code",
        "colab": {}
      },
      "cell_type": "code",
      "source": [
        "max_features = 20000\n",
        "# cut texts after this number of words (among top max_features most common words)\n",
        "maxlen = 80\n",
        "batch_size = 32"
      ],
      "execution_count": 0,
      "outputs": []
    },
    {
      "metadata": {
        "id": "DWHdgdzVd-04",
        "colab_type": "code",
        "colab": {
          "base_uri": "https://localhost:8080/",
          "height": 146
        },
        "outputId": "9b51b840-e84e-4dbc-f47f-b01f2e003255"
      },
      "cell_type": "code",
      "source": [
        "# Load data\n",
        "(X_train, y_train), (X_test, y_test) = imdb.load_data(nb_words=max_features)\n",
        "print(len(X_train), 'train sequences')\n",
        "print(len(X_test), 'test sequences')"
      ],
      "execution_count": 8,
      "outputs": [
        {
          "output_type": "stream",
          "text": [
            "Downloading data from https://s3.amazonaws.com/text-datasets/imdb.npz\n",
            "  303104/17464789 [..............................] - ETA: 2s"
          ],
          "name": "stdout"
        },
        {
          "output_type": "stream",
          "text": [
            "/usr/local/lib/python3.6/dist-packages/keras/datasets/imdb.py:49: UserWarning: The `nb_words` argument in `load_data` has been renamed `num_words`.\n",
            "  warnings.warn('The `nb_words` argument in `load_data` '\n"
          ],
          "name": "stderr"
        },
        {
          "output_type": "stream",
          "text": [
            "17465344/17464789 [==============================] - 0s 0us/step\n",
            "25000 train sequences\n",
            "25000 test sequences\n"
          ],
          "name": "stdout"
        }
      ]
    },
    {
      "metadata": {
        "id": "oo1dEQC-eD6Q",
        "colab_type": "code",
        "colab": {
          "base_uri": "https://localhost:8080/",
          "height": 72
        },
        "outputId": "0c28abbe-e0ac-457a-bc8b-340f24f03fdd"
      },
      "cell_type": "code",
      "source": [
        "print('Pad sequences (samples x time)')\n",
        "X_train = sequence.pad_sequences(X_train, maxlen=maxlen)\n",
        "X_test = sequence.pad_sequences(X_test, maxlen=maxlen)\n",
        "print('X_train shape:', X_train.shape)\n",
        "print('X_test shape:', X_test.shape)"
      ],
      "execution_count": 9,
      "outputs": [
        {
          "output_type": "stream",
          "text": [
            "Pad sequences (samples x time)\n",
            "X_train shape: (25000, 80)\n",
            "X_test shape: (25000, 80)\n"
          ],
          "name": "stdout"
        }
      ]
    },
    {
      "metadata": {
        "id": "3APQwAcjeJNK",
        "colab_type": "code",
        "colab": {
          "base_uri": "https://localhost:8080/",
          "height": 73
        },
        "outputId": "64f6cc5b-10c2-436e-c5f8-8ecf6dc117ea"
      },
      "cell_type": "code",
      "source": [
        "#Model configuration\n",
        "model = Sequential()\n",
        "model.add(Embedding(max_features, 128, dropout=0.2))\n",
        "# try using a GRU instead\n",
        "# model.add(LSTM(128, dropout_W=0.2, dropout_U=0.2))\n",
        "model.add(LSTM(128, dropout=0.2, recurrent_dropout=0.2))\n",
        "model.add(Dense(1))\n",
        "model.add(Activation('sigmoid'))"
      ],
      "execution_count": 20,
      "outputs": [
        {
          "output_type": "stream",
          "text": [
            "/usr/local/lib/python3.6/dist-packages/ipykernel_launcher.py:2: UserWarning: The `dropout` argument is no longer support in `Embedding`. You can apply a `keras.layers.SpatialDropout1D` layer right after the `Embedding` layer to get the same behavior.\n",
            "  \n"
          ],
          "name": "stderr"
        }
      ]
    },
    {
      "metadata": {
        "id": "2TTQZaSeel_P",
        "colab_type": "code",
        "colab": {}
      },
      "cell_type": "code",
      "source": [
        "# try using different optimizers and different optimizer configs\n",
        "model.compile(loss='binary_crossentropy', optimizer='adam', metrics=['accuracy'])"
      ],
      "execution_count": 0,
      "outputs": []
    },
    {
      "metadata": {
        "id": "M0PTwsgGeuqI",
        "colab_type": "code",
        "colab": {
          "base_uri": "https://localhost:8080/",
          "height": 217
        },
        "outputId": "725bd8d8-e29f-4f60-82fc-8bcf5528d319"
      },
      "cell_type": "code",
      "source": [
        "# Train\n",
        "# model.fit(X_train, y_train, batch_size=batch_size, nb_epoch=5)\n",
        "model.fit(X_train, y_train, batch_size=batch_size, epochs=5)"
      ],
      "execution_count": 19,
      "outputs": [
        {
          "output_type": "stream",
          "text": [
            "Epoch 1/5\n",
            "25000/25000 [==============================] - 140s 6ms/step - loss: 0.0868 - acc: 0.9688\n",
            "Epoch 2/5\n",
            "25000/25000 [==============================] - 140s 6ms/step - loss: 0.0561 - acc: 0.9817\n",
            "Epoch 3/5\n",
            "25000/25000 [==============================] - 141s 6ms/step - loss: 0.0439 - acc: 0.9854\n",
            "Epoch 4/5\n",
            "25000/25000 [==============================] - 141s 6ms/step - loss: 0.0380 - acc: 0.9880\n",
            "Epoch 5/5\n",
            "25000/25000 [==============================] - 142s 6ms/step - loss: 0.0278 - acc: 0.9910\n"
          ],
          "name": "stdout"
        },
        {
          "output_type": "execute_result",
          "data": {
            "text/plain": [
              "<keras.callbacks.History at 0x7f8ae0e38e80>"
            ]
          },
          "metadata": {
            "tags": []
          },
          "execution_count": 19
        }
      ]
    },
    {
      "metadata": {
        "id": "OQWwwd3whzRg",
        "colab_type": "code",
        "colab": {
          "base_uri": "https://localhost:8080/",
          "height": 53
        },
        "outputId": "09d9a0ae-d3cc-4b4b-9aa3-81d64ae93bac"
      },
      "cell_type": "code",
      "source": [
        "# Evaluate\n",
        "train_score, train_acc = model.evaluate(X_train, y_train, batch_size=batch_size)\n",
        "test_score, test_acc = model.evaluate(X_test, y_test, batch_size=batch_size)"
      ],
      "execution_count": 16,
      "outputs": [
        {
          "output_type": "stream",
          "text": [
            "25000/25000 [==============================] - 26s 1ms/step\n",
            "25000/25000 [==============================] - 25s 1ms/step\n"
          ],
          "name": "stdout"
        }
      ]
    },
    {
      "metadata": {
        "id": "Ugku4O6SiI4f",
        "colab_type": "code",
        "colab": {
          "base_uri": "https://localhost:8080/",
          "height": 53
        },
        "outputId": "f5aeac37-6013-443b-dd57-0e33ae968caf"
      },
      "cell_type": "code",
      "source": [
        "print('Train score:', train_score)\n",
        "print('Train accuracy:', train_acc)"
      ],
      "execution_count": 17,
      "outputs": [
        {
          "output_type": "stream",
          "text": [
            "Train score: 0.0822023992741108\n",
            "Train accuracy: 0.9698\n"
          ],
          "name": "stdout"
        }
      ]
    },
    {
      "metadata": {
        "id": "-_F6UQwHiUPQ",
        "colab_type": "code",
        "colab": {
          "base_uri": "https://localhost:8080/",
          "height": 53
        },
        "outputId": "056b4c1b-94fd-4859-e61b-7db24db47b01"
      },
      "cell_type": "code",
      "source": [
        "print('Test score:', test_score)\n",
        "print('Test accuracy:', test_acc)"
      ],
      "execution_count": 18,
      "outputs": [
        {
          "output_type": "stream",
          "text": [
            "Test score: 0.6786548666954041\n",
            "Test accuracy: 0.8198\n"
          ],
          "name": "stdout"
        }
      ]
    }
  ]
}